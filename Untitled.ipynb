{
 "cells": [
  {
   "cell_type": "code",
   "execution_count": 1,
   "metadata": {},
   "outputs": [],
   "source": [
    "import spacy\n"
   ]
  },
  {
   "cell_type": "code",
   "execution_count": 2,
   "metadata": {},
   "outputs": [],
   "source": [
    "nlp=spacy.load('en_core_web_sm')"
   ]
  },
  {
   "cell_type": "code",
   "execution_count": 14,
   "metadata": {},
   "outputs": [],
   "source": [
    "with open('untitled.txt') as f:\n",
    "    doc1=nlp(f.read())"
   ]
  },
  {
   "cell_type": "code",
   "execution_count": 15,
   "metadata": {},
   "outputs": [
    {
     "name": "stdout",
     "output_type": "stream",
     "text": [
      "Hello my name is krishnaprasad iam form Thrissur.Taj Mahal is in Delhi.common \n"
     ]
    }
   ],
   "source": [
    "print(doc1)\n"
   ]
  },
  {
   "cell_type": "code",
   "execution_count": 17,
   "metadata": {},
   "outputs": [
    {
     "name": "stdout",
     "output_type": "stream",
     "text": [
      "Hello\n",
      "my\n",
      "name\n",
      "is\n",
      "krishnaprasad\n",
      "iam\n",
      "form\n",
      "Thrissur\n",
      ".\n",
      "Taj\n",
      "Mahal\n",
      "is\n",
      "in\n",
      "Delhi.common\n"
     ]
    }
   ],
   "source": [
    "for token in doc1:\n",
    "    print(token.text)"
   ]
  },
  {
   "cell_type": "code",
   "execution_count": 23,
   "metadata": {},
   "outputs": [
    {
     "name": "stdout",
     "output_type": "stream",
     "text": [
      "Hello \t INTJ \t 5983625672228268878 \t hello\n",
      "my \t ADJ \t 561228191312463089 \t -PRON-\n",
      "name \t NOUN \t 18309932012808971453 \t name\n",
      "is \t VERB \t 10382539506755952630 \t be\n",
      "krishnaprasad \t ADJ \t 2319937291074060406 \t krishnaprasad\n",
      "iam \t ADV \t 528549320860036448 \t iam\n",
      "form \t NOUN \t 16052413196044414349 \t form\n",
      "Thrissur \t PROPN \t 798614257370765414 \t thrissur\n",
      ". \t PUNCT \t 12646065887601541794 \t .\n",
      "Taj \t PROPN \t 6469108707708394573 \t taj\n",
      "Mahal \t PROPN \t 14881416370524251118 \t mahal\n",
      "is \t VERB \t 10382539506755952630 \t be\n",
      "in \t ADP \t 3002984154512732771 \t in\n",
      "Delhi.common \t PROPN \t 16997836378121062537 \t delhi.common\n"
     ]
    }
   ],
   "source": [
    "for token in doc1:\n",
    "    print(token.text,'\\t',token.pos_,'\\t', token.lemma,'\\t',token.lemma_)"
   ]
  },
  {
   "cell_type": "code",
   "execution_count": null,
   "metadata": {},
   "outputs": [],
   "source": []
  }
 ],
 "metadata": {
  "kernelspec": {
   "display_name": "Python 3",
   "language": "python",
   "name": "python3"
  },
  "language_info": {
   "codemirror_mode": {
    "name": "ipython",
    "version": 3
   },
   "file_extension": ".py",
   "mimetype": "text/x-python",
   "name": "python",
   "nbconvert_exporter": "python",
   "pygments_lexer": "ipython3",
   "version": "3.6.5"
  }
 },
 "nbformat": 4,
 "nbformat_minor": 2
}
